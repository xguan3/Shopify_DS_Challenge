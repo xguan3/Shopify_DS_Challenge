from google.colab import drive
drive.mount('/content/drive')

import pandas as pd
import numpy as np 
import seaborn as sns
import matplotlib.pyplot as plt

